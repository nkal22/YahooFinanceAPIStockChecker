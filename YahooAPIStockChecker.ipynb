{
 "cells": [
  {
   "cell_type": "code",
   "execution_count": 27,
   "metadata": {},
   "outputs": [
    {
     "name": "stdout",
     "output_type": "stream",
     "text": [
      "Please enter valid stock ticker: alksnfaoinfoaien\n",
      "Error: Invalid Stock Ticker\n"
     ]
    },
    {
     "ename": "SystemExit",
     "evalue": "",
     "output_type": "error",
     "traceback": [
      "An exception has occurred, use %tb to see the full traceback.\n",
      "\u001b[0;31mSystemExit\u001b[0m\n"
     ]
    }
   ],
   "source": [
    "import requests\n",
    "import pandas as pd\n",
    "import json\n",
    "import time\n",
    "import sys\n",
    "import csv\n",
    "\n",
    "\n",
    "\n",
    "\n",
    "\n",
    "stock_ticker = input(\"Please enter valid stock ticker: \") #user input\n",
    "\n",
    "url = 'https://yfapi.net/v6/finance/quote?region=US&lang=en&symbols=' + stock_ticker\n",
    "\n",
    "headers1 = {\n",
    "    'accept': 'application/json',\n",
    "    'X-API-KEY': 'QIo9fwhjZj7yND8ymTjkF9SUT4JQvAn0a4SerLNT',\n",
    "} #collects API data\n",
    "\n",
    "\n",
    "response = requests.get(url, headers = headers1).json()\n",
    "\n",
    "\n",
    "\n",
    "#print(response)\n",
    "\n",
    "#print response.json()\n",
    "\n",
    "#json_response = json.loads(response.text)\n",
    "\n",
    "response2 = json.dumps(response) #converts result to json string\n",
    "\n",
    "spl_word5 = \"\\\"result\\\": \"\n",
    "spl_word2 = \",\"\n",
    "\n",
    "res5 = response2.partition(spl_word5)[2] #splits json string\n",
    "res6 = res5.partition(spl_word2)[0]\n",
    "res6\n",
    "\n",
    "if res6 == \"[]\": #Checks for Error and ends program if stock ticker is invalid\n",
    "    print(\"Error: Invalid Stock Ticker\")\n",
    "    sys.exit()\n",
    "\n",
    "spl_word1 = \"\\\"regularMarketPrice\\\": \"\n",
    "\n",
    "res = response2.partition(spl_word1)[2] #splits json string to find Market Price\n",
    "res2 = res.partition(spl_word2)[0]\n",
    "#res2\n",
    "\n",
    "spl_word3 = \"\\\"regularMarketTime\\\": \"\n",
    "\n",
    "res3 = response2.partition(spl_word3)[2] #splits json string to find Market Time\n",
    "res4 = int(res3.partition(spl_word2)[0])\n",
    "\n",
    "timestamp = res4\n",
    "newTime = time.strftime(\"%Y-%m-%d %H:%M:%S\", time.gmtime(timestamp)) #Converts seconds to date\n",
    "\n",
    "print(\"Current Price [\" + res2 + \"]\")\n",
    "print(\"Market Time [\" + newTime + \"]\") #outputs\n",
    "print(\"Company Name [\" + stock_ticker + \"]\")\n",
    "\n",
    "fields = [stock_ticker, newTime, res2]\n",
    "\n",
    "with open(r'/Users/nicholaskalinowski/Documents/MarketData.csv','a', newline='') as fd:\n",
    "    writer = csv.writer(fd)\n",
    "    writer.writerow(fields) #adds new row to CSV\n",
    "\n",
    "\n",
    "\n"
   ]
  },
  {
   "cell_type": "code",
   "execution_count": null,
   "metadata": {},
   "outputs": [],
   "source": []
  },
  {
   "cell_type": "code",
   "execution_count": null,
   "metadata": {},
   "outputs": [],
   "source": []
  }
 ],
 "metadata": {
  "kernelspec": {
   "display_name": "Python 3",
   "language": "python",
   "name": "python3"
  },
  "language_info": {
   "codemirror_mode": {
    "name": "ipython",
    "version": 3
   },
   "file_extension": ".py",
   "mimetype": "text/x-python",
   "name": "python",
   "nbconvert_exporter": "python",
   "pygments_lexer": "ipython3",
   "version": "3.7.4"
  }
 },
 "nbformat": 4,
 "nbformat_minor": 2
}
